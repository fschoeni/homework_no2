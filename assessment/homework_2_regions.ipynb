{
 "cells": [
  {
   "cell_type": "markdown",
   "metadata": {},
   "source": [
    "### Homework #2 Course Open Source Energy System Modeling\n",
    "### *IPCC SR15 scenario assessment*\n",
    "\n",
    "<img style=\"float: right; height: 80px; padding-left: 20px;\" src=\"../_static/TU_logo.png\">\n",
    "\n",
    "# Analysis of carbon capture and sequestration (CCS)\n",
    "\n",
    "This notebook computes indicators and diagnostics of whether CCS is deployed or not in the future by fuel based on the IPCC's _\"Special Report on Global Warming of 1.5°C\"_.\n",
    "\n",
    "The scenario data used in this analysis can be accessed and downloaded at [https://data.ene.iiasa.ac.at/iamc-1.5c-explorer](https://data.ene.iiasa.ac.at/iamc-1.5c-explorer)."
   ]
  },
  {
   "cell_type": "markdown",
   "metadata": {},
   "source": [
    "## Load `pyam` package and other dependencies"
   ]
  },
  {
   "cell_type": "code",
   "execution_count": 1,
   "metadata": {},
   "outputs": [
    {
     "data": {
      "application/javascript": [
       "IPython.OutputArea.prototype._should_scroll = function(lines) { return false; }"
      ],
      "text/plain": [
       "<IPython.core.display.Javascript object>"
      ]
     },
     "metadata": {},
     "output_type": "display_data"
    },
    {
     "name": "stderr",
     "output_type": "stream",
     "text": [
      "pyam - INFO: Running in a notebook, setting `pyam` logging level to `logging.INFO` and adding stderr handler\n"
     ]
    }
   ],
   "source": [
    "import pandas as pd\n",
    "import numpy as np\n",
    "import io\n",
    "import itertools\n",
    "import yaml\n",
    "import math\n",
    "import matplotlib.pyplot as plt\n",
    "%matplotlib inline\n",
    "import pyam\n",
    "\n",
    "from utils import boxplot_by_cat"
   ]
  },
  {
   "cell_type": "markdown",
   "metadata": {},
   "source": [
    "## Import scenario data, categorization and specifications files\n",
    "\n",
    "The metadata file with scenario categorisation and quantitative indicators can be downloaded at [https://data.ene.iiasa.ac.at/iamc-1.5c-explorer](https://data.ene.iiasa.ac.at/iamc-1.5c-explorer).  \n",
    "Alternatively, it can be re-created using the notebook `sr15_2.0_categories_indicators`.\n",
    "\n",
    "The last cell of this section loads and assigns a number of auxiliary lists as defined in the categorization notebook."
   ]
  },
  {
   "cell_type": "code",
   "execution_count": null,
   "metadata": {},
   "outputs": [
    {
     "name": "stderr",
     "output_type": "stream",
     "text": [
      "pyam.utils - INFO: Reading `../data/iamc15_scenario_data_world_r2.0.xlsx`\n"
     ]
    }
   ],
   "source": [
    "sr1p5_regions = pyam.IamDataFrame(data='../data/iamc15_scenario_data_world_r2.0.xlsx')"
   ]
  },
  {
   "cell_type": "code",
   "execution_count": null,
   "metadata": {},
   "outputs": [],
   "source": [
    "sr1p5_regions.load_meta('sr15_metadata_indicators_r2.0.xlsx')"
   ]
  },
  {
   "cell_type": "code",
   "execution_count": null,
   "metadata": {},
   "outputs": [],
   "source": [
    "with open(\"sr15_specs.yaml\", 'r') as stream:\n",
    "    specs = yaml.load(stream, Loader=yaml.FullLoader)\n",
    "\n",
    "rc = pyam.run_control()\n",
    "for item in specs.pop('run_control').items():\n",
    "    rc.update({item[0]: item[1]})\n",
    "cats = specs.pop('cats')\n",
    "all_cats = specs.pop('all_cats')\n",
    "subcats = specs.pop('subcats')\n",
    "all_subcats = specs.pop('all_subcats')\n",
    "plotting_args = specs.pop('plotting_args')\n",
    "marker= specs.pop('marker')"
   ]
  },
  {
   "cell_type": "markdown",
   "metadata": {},
   "source": [
    "## Downselect scenario ensemble to categories of interest for this assessment"
   ]
  },
  {
   "cell_type": "code",
   "execution_count": null,
   "metadata": {},
   "outputs": [],
   "source": [
    "years = range(2020, 2101, 5)"
   ]
  },
  {
   "cell_type": "code",
   "execution_count": null,
   "metadata": {},
   "outputs": [],
   "source": [
    "df = sr1p5_regions.filter(category=cats, year=years)"
   ]
  },
  {
   "cell_type": "markdown",
   "metadata": {},
   "source": [
    "## Set specifications for filter and plotting and initialize a data list"
   ]
  },
  {
   "cell_type": "code",
   "execution_count": null,
   "metadata": {},
   "outputs": [],
   "source": [
    "plot_ylabel = '{} with CCS (EJ)'\n",
    "save_name = 'output/fig_hw2_{}.{}'\n",
    "figure_format = 'png'"
   ]
  },
  {
   "cell_type": "code",
   "execution_count": null,
   "metadata": {},
   "outputs": [],
   "source": [
    "filter_args = dict(df=sr1p5_regions, category=cats, marker=None, join_meta=True)"
   ]
  },
  {
   "cell_type": "code",
   "execution_count": null,
   "metadata": {},
   "outputs": [],
   "source": [
    "def plotting_args(name, panel_label=None, filetype=figure_format):\n",
    "    return {'categories': cats, 'column': 'category', 'years': range(2020, 2101, 10), 'add_marker': marker,\n",
    "            'ylabel': plot_ylabel.format(name),\n",
    "            'save': save_name.format(name if panel_label is None else '{}_{}'.format(panel_label, name), filetype)}"
   ]
  },
  {
   "cell_type": "code",
   "execution_count": null,
   "metadata": {},
   "outputs": [],
   "source": [
    "data = []"
   ]
  },
  {
   "cell_type": "markdown",
   "metadata": {},
   "source": [
    "## Extract timeseries data by fuel for with CCS and without CCS"
   ]
  },
  {
   "cell_type": "markdown",
   "metadata": {},
   "source": [
    "### Bioenergy\n",
    "#### with CCS"
   ]
  },
  {
   "cell_type": "code",
   "execution_count": null,
   "metadata": {},
   "outputs": [],
   "source": [
    "ccs_bio = (\n",
    "    pyam.filter_by_meta(\n",
    "        df.filter(variable='Primary Energy|Biomass|Modern|w/ CCS')\n",
    "        .timeseries(), **filter_args)\n",
    ")"
   ]
  },
  {
   "cell_type": "code",
   "execution_count": null,
   "metadata": {},
   "outputs": [],
   "source": [
    "name = 'bioenergy'\n",
    "fig = boxplot_by_cat(ccs_bio, **plotting_args(name, 'a'))"
   ]
  },
  {
   "cell_type": "code",
   "execution_count": null,
   "metadata": {},
   "outputs": [],
   "source": [
    "data.append(('Bioenergy with CCS', ccs_bio))"
   ]
  },
  {
   "cell_type": "markdown",
   "metadata": {},
   "source": [
    "#### without CCS"
   ]
  },
  {
   "cell_type": "code",
   "execution_count": null,
   "metadata": {},
   "outputs": [],
   "source": [
    "no_ccs_bio = (\n",
    "    pyam.filter_by_meta(\n",
    "        df.filter(variable='Primary Energy|Biomass|Modern|w/o CCS')\n",
    "        .timeseries(), **filter_args)\n",
    ")"
   ]
  },
  {
   "cell_type": "code",
   "execution_count": null,
   "metadata": {},
   "outputs": [],
   "source": [
    "name = 'bioenergy not'\n",
    "fig = boxplot_by_cat(no_ccs_bio, **plotting_args(name, 'a'))"
   ]
  },
  {
   "cell_type": "code",
   "execution_count": null,
   "metadata": {},
   "outputs": [],
   "source": [
    "data.append(('Bioenergy without CCS', no_ccs_bio))"
   ]
  },
  {
   "cell_type": "markdown",
   "metadata": {},
   "source": [
    "## Findings from Bioenergy\n",
    "Bioenergy without CCS rises slightly between 2020 and 2100, but there is no big trend observable. However, Bioenergy with CCS increases from neglegible production in 2020 to more than 100 EJ in 2100. This means that bioenergy is used to achieve negative emissions towards the end of the century."
   ]
  },
  {
   "cell_type": "markdown",
   "metadata": {},
   "source": [
    "### Coal\n",
    "#### with CCS"
   ]
  },
  {
   "cell_type": "code",
   "execution_count": null,
   "metadata": {},
   "outputs": [],
   "source": [
    "ccs_coal = (\n",
    "    pyam.filter_by_meta(\n",
    "        df.filter(variable='Primary Energy|Coal|w/ CCS')\n",
    "        .timeseries(), **filter_args)\n",
    ")"
   ]
  },
  {
   "cell_type": "code",
   "execution_count": null,
   "metadata": {},
   "outputs": [],
   "source": [
    "name = 'coal'\n",
    "boxplot_by_cat(ccs_coal, **plotting_args(name, 'b'), legend=False)"
   ]
  },
  {
   "cell_type": "code",
   "execution_count": null,
   "metadata": {},
   "outputs": [],
   "source": [
    "data.append(('Coal with CCS', ccs_coal))"
   ]
  },
  {
   "cell_type": "markdown",
   "metadata": {},
   "source": [
    "#### without CCS"
   ]
  },
  {
   "cell_type": "code",
   "execution_count": null,
   "metadata": {},
   "outputs": [],
   "source": [
    "no_ccs_coal = (\n",
    "    pyam.filter_by_meta(\n",
    "        df.filter(variable='Primary Energy|Coal|w/o CCS')\n",
    "        .timeseries(), **filter_args)\n",
    ")"
   ]
  },
  {
   "cell_type": "code",
   "execution_count": null,
   "metadata": {},
   "outputs": [],
   "source": [
    "name = 'coal not'\n",
    "boxplot_by_cat(no_ccs_coal, **plotting_args(name, 'b'), legend=False)"
   ]
  },
  {
   "cell_type": "code",
   "execution_count": null,
   "metadata": {},
   "outputs": [],
   "source": [
    "data.append(('Coal without CCS', ccs_coal))"
   ]
  },
  {
   "cell_type": "markdown",
   "metadata": {},
   "source": [
    "## Findings from coal\n",
    "Coal engery without vanishes in all scenarios except for the \"Above 2C\" scenario latest in the middle of this century. The higher the accepted temperature increase, the higher the projected energy production from coal with CCS in the scenarios."
   ]
  },
  {
   "cell_type": "markdown",
   "metadata": {},
   "source": [
    "### Gas\n",
    "#### with CCS"
   ]
  },
  {
   "cell_type": "code",
   "execution_count": null,
   "metadata": {},
   "outputs": [],
   "source": [
    "ccs_gas = (\n",
    "    pyam.filter_by_meta(\n",
    "        df.filter(variable='Primary Energy|Gas|w/ CCS')\n",
    "        .timeseries(), **filter_args)\n",
    ")"
   ]
  },
  {
   "cell_type": "code",
   "execution_count": null,
   "metadata": {},
   "outputs": [],
   "source": [
    "name = 'gas'\n",
    "boxplot_by_cat(ccs_gas, **plotting_args(name, 'c'), legend=False)"
   ]
  },
  {
   "cell_type": "code",
   "execution_count": null,
   "metadata": {},
   "outputs": [],
   "source": [
    "data.append(('Gas with CCS', ccs_gas))"
   ]
  },
  {
   "cell_type": "markdown",
   "metadata": {},
   "source": [
    "#### without CCS"
   ]
  },
  {
   "cell_type": "code",
   "execution_count": null,
   "metadata": {},
   "outputs": [],
   "source": [
    "no_ccs_gas = (\n",
    "    pyam.filter_by_meta(\n",
    "        df.filter(variable='Primary Energy|Gas|w/o CCS')\n",
    "        .timeseries(), **filter_args)\n",
    ")"
   ]
  },
  {
   "cell_type": "code",
   "execution_count": null,
   "metadata": {},
   "outputs": [],
   "source": [
    "name = 'gas not'\n",
    "boxplot_by_cat(no_ccs_gas, **plotting_args(name, 'c'), legend=False)"
   ]
  },
  {
   "cell_type": "code",
   "execution_count": null,
   "metadata": {},
   "outputs": [],
   "source": [
    "data.append(('Gas without CCS', ccs_gas))"
   ]
  },
  {
   "cell_type": "markdown",
   "metadata": {},
   "source": [
    "## Findings from gas\n",
    "Energy production from gas is still significant in 2100 in a broad range of scenarios. In contrast to bioenergy, this means there are projected positive emissions from gas which then have to be compensated for in another way in a decarbonized world. Interestingly, energy generation from gas without CCS is around the same as gas with CCS in 2100. "
   ]
  }
 ],
 "metadata": {
  "kernelspec": {
   "display_name": "Python 3",
   "language": "python",
   "name": "python3"
  },
  "language_info": {
   "codemirror_mode": {
    "name": "ipython",
    "version": 3
   },
   "file_extension": ".py",
   "mimetype": "text/x-python",
   "name": "python",
   "nbconvert_exporter": "python",
   "pygments_lexer": "ipython3",
   "version": "3.7.0"
  }
 },
 "nbformat": 4,
 "nbformat_minor": 4
}
